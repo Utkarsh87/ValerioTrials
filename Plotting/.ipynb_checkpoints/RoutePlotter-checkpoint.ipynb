{
 "cells": [
  {
   "cell_type": "markdown",
   "metadata": {},
   "source": [
    "# Script to generate routes between fed locations"
   ]
  },
  {
   "cell_type": "markdown",
   "metadata": {},
   "source": [
    "Code derived from https://ipython-books.github.io/147-creating-a-route-planner-for-a-road-network/"
   ]
  },
  {
   "cell_type": "markdown",
   "metadata": {},
   "source": [
    "Data(.shp file) from https://mapcruzin.com/free-delhi-country-city-place-gis-shapefiles.htm"
   ]
  },
  {
   "cell_type": "code",
   "execution_count": 1,
   "metadata": {},
   "outputs": [],
   "source": [
    "import io\n",
    "import zipfile\n",
    "import requests\n",
    "import networkx as nx\n",
    "import numpy as np\n",
    "import pandas as pd\n",
    "import json\n",
    "import smopy\n",
    "import matplotlib.pyplot as plt\n",
    "%matplotlib inline"
   ]
  },
  {
   "cell_type": "code",
   "execution_count": 2,
   "metadata": {},
   "outputs": [],
   "source": [
    "# def unzip_file(name):\n",
    "#   zipped_file = name\n",
    "#   zip_ref = zipfile.ZipFile(zipped_file, 'r')\n",
    "#   zip_ref.extractall('.')\n",
    "#   zip_ref.close()"
   ]
  },
  {
   "cell_type": "code",
   "execution_count": 3,
   "metadata": {},
   "outputs": [],
   "source": [
    "# unzip_file('delhi_highway.zip')"
   ]
  },
  {
   "cell_type": "code",
   "execution_count": 4,
   "metadata": {},
   "outputs": [
    {
     "ename": "RuntimeError",
     "evalue": "Unable to open delhi_highway.shp",
     "output_type": "error",
     "traceback": [
      "\u001b[1;31m---------------------------------------------------------------------------\u001b[0m",
      "\u001b[1;31mRuntimeError\u001b[0m                              Traceback (most recent call last)",
      "\u001b[1;32m<ipython-input-4-ba0a777b1e05>\u001b[0m in \u001b[0;36m<module>\u001b[1;34m\u001b[0m\n\u001b[0;32m      1\u001b[0m \u001b[1;32mimport\u001b[0m \u001b[0mgdal\u001b[0m\u001b[1;33m\u001b[0m\u001b[1;33m\u001b[0m\u001b[0m\n\u001b[1;32m----> 2\u001b[1;33m \u001b[0mg\u001b[0m \u001b[1;33m=\u001b[0m \u001b[0mnx\u001b[0m\u001b[1;33m.\u001b[0m\u001b[0mread_shp\u001b[0m\u001b[1;33m(\u001b[0m\u001b[1;34m'delhi_highway.shp'\u001b[0m\u001b[1;33m)\u001b[0m\u001b[1;33m\u001b[0m\u001b[1;33m\u001b[0m\u001b[0m\n\u001b[0m",
      "\u001b[1;32mc:\\users\\utkarsh kumar\\appdata\\local\\programs\\python\\python36\\lib\\site-packages\\networkx\\readwrite\\nx_shp.py\u001b[0m in \u001b[0;36mread_shp\u001b[1;34m(path, simplify, geom_attrs, strict)\u001b[0m\n\u001b[0;32m     94\u001b[0m     \u001b[0mshp\u001b[0m \u001b[1;33m=\u001b[0m \u001b[0mogr\u001b[0m\u001b[1;33m.\u001b[0m\u001b[0mOpen\u001b[0m\u001b[1;33m(\u001b[0m\u001b[0mpath\u001b[0m\u001b[1;33m)\u001b[0m\u001b[1;33m\u001b[0m\u001b[1;33m\u001b[0m\u001b[0m\n\u001b[0;32m     95\u001b[0m     \u001b[1;32mif\u001b[0m \u001b[0mshp\u001b[0m \u001b[1;32mis\u001b[0m \u001b[1;32mNone\u001b[0m\u001b[1;33m:\u001b[0m\u001b[1;33m\u001b[0m\u001b[1;33m\u001b[0m\u001b[0m\n\u001b[1;32m---> 96\u001b[1;33m         \u001b[1;32mraise\u001b[0m \u001b[0mRuntimeError\u001b[0m\u001b[1;33m(\u001b[0m\u001b[1;34m\"Unable to open {}\"\u001b[0m\u001b[1;33m.\u001b[0m\u001b[0mformat\u001b[0m\u001b[1;33m(\u001b[0m\u001b[0mpath\u001b[0m\u001b[1;33m)\u001b[0m\u001b[1;33m)\u001b[0m\u001b[1;33m\u001b[0m\u001b[1;33m\u001b[0m\u001b[0m\n\u001b[0m\u001b[0;32m     97\u001b[0m     \u001b[1;32mfor\u001b[0m \u001b[0mlyr\u001b[0m \u001b[1;32min\u001b[0m \u001b[0mshp\u001b[0m\u001b[1;33m:\u001b[0m\u001b[1;33m\u001b[0m\u001b[1;33m\u001b[0m\u001b[0m\n\u001b[0;32m     98\u001b[0m         \u001b[0mfields\u001b[0m \u001b[1;33m=\u001b[0m \u001b[1;33m[\u001b[0m\u001b[0mx\u001b[0m\u001b[1;33m.\u001b[0m\u001b[0mGetName\u001b[0m\u001b[1;33m(\u001b[0m\u001b[1;33m)\u001b[0m \u001b[1;32mfor\u001b[0m \u001b[0mx\u001b[0m \u001b[1;32min\u001b[0m \u001b[0mlyr\u001b[0m\u001b[1;33m.\u001b[0m\u001b[0mschema\u001b[0m\u001b[1;33m]\u001b[0m\u001b[1;33m\u001b[0m\u001b[1;33m\u001b[0m\u001b[0m\n",
      "\u001b[1;31mRuntimeError\u001b[0m: Unable to open delhi_highway.shp"
     ]
    }
   ],
   "source": [
    "import gdal\n",
    "g = nx.read_shp('delhi_highway.shp')"
   ]
  },
  {
   "cell_type": "code",
   "execution_count": null,
   "metadata": {},
   "outputs": [],
   "source": [
    "# Requires a lot of space, graph too big\n",
    "\n",
    "# nx.draw(g)\n",
    "# plt.show()"
   ]
  },
  {
   "cell_type": "code",
   "execution_count": null,
   "metadata": {},
   "outputs": [],
   "source": [
    "# Graph might not be connected, this function will yield the largest connected subgraph.\n",
    "def connected_component_subgraphs(G):\n",
    "    for c in nx.connected_components(G):\n",
    "        yield G.subgraph(c)\n",
    "\n",
    "sgs = list(connected_component_subgraphs(g.to_undirected())) # sgs is a list of subgraphs\n",
    "\n",
    "i = np.argmax([len(sg) for sg in sgs]) # i holds the location of the largest connected subgraph\n",
    "# print(i)\n",
    "sg = sgs[i] # sg is the subgraph of interest\n",
    "\n",
    "# print(len(sg)) # number of nodes in this subgraph\n",
    "# print(sg.edges) # returns list of nested tuples, each tuple containing the lat and lon of a point"
   ]
  },
  {
   "cell_type": "code",
   "execution_count": null,
   "metadata": {},
   "outputs": [],
   "source": [
    "# First 2 datapoints in the csv\n",
    "pos0 = (28.585611, 77.190806)\n",
    "pos1 = (28.632806, 77.223000)"
   ]
  },
  {
   "cell_type": "code",
   "execution_count": null,
   "metadata": {},
   "outputs": [],
   "source": [
    "def get_path(n0, n1): # n0 and n1 are tuples(containing the latitude and longitude) of the 2 locations\n",
    "# returns points linking the 2 given locations\n",
    "    return np.array(json.loads(sg[n0][n1]['Json'])\n",
    "                    ['coordinates'])"
   ]
  },
  {
   "cell_type": "code",
   "execution_count": null,
   "metadata": {},
   "outputs": [],
   "source": [
    "radius = 6372.8\n",
    "def calcDist(lat0, lon0, lat1, lon1):\n",
    "    # calculates and returns the Great-Circle Distance using the cosine formula(in km)\n",
    "    lat0 = np.radians(lat0)\n",
    "    lon0 = np.radians(lon0)\n",
    "    lon1 = np.radians(lon1)\n",
    "    lat1 = np.radians(lat1)\n",
    "    dlon = lon0 - lon1\n",
    "    \n",
    "    y = np.sqrt((np.cos(lat1) * np.sin(dlon)) ** 2 +\n",
    "        (np.cos(lat0) * np.sin(lat1) - np.sin(lat0) *\n",
    "         np.cos(lat1) * np.cos(dlon)) ** 2)\n",
    "    x = np.sin(lat0) * np.sin(lat1) + \\\n",
    "        np.cos(lat0) * np.cos(lat1) * np.cos(dlon)\n",
    "    c = np.arctan2(y, x)\n",
    "    \n",
    "    return radius*c"
   ]
  },
  {
   "cell_type": "code",
   "execution_count": null,
   "metadata": {},
   "outputs": [],
   "source": [
    "# leverages the calcDist function to calculate the length between given 2 points\n",
    "def get_path_length(path):\n",
    "    return np.sum(calcDist(path[1:, 1], path[1:, 0], path[:-1, 1], path[:-1, 0])) # pass the lat and lon of the 2 points"
   ]
  },
  {
   "cell_type": "code",
   "execution_count": null,
   "metadata": {},
   "outputs": [],
   "source": [
    "# Update the graph edges by assigning them actual distance\n",
    "for n0, n1 in sg.edges:\n",
    "    path = get_path(n0, n1) # will return np array of points\n",
    "    dist = get_path_length(path)\n",
    "    sg.edges[n0, n1]['distance'] = dist # update step"
   ]
  },
  {
   "cell_type": "code",
   "execution_count": null,
   "metadata": {},
   "outputs": [],
   "source": [
    "# Our requested positions might not be on the graph, find the locations on the graph closest to them\n",
    "\n",
    "# get all the nodes of the constructed graph into an array and find the point closest to target point.\n",
    "nodes = np.array(sg.nodes())\n",
    "# print(nodes) # returns list of latitudes and longitudes(Total 278 datapoints)(latitudes and longitudes are stored as list and not tuple)\n",
    "\n",
    "# Get the closest nodes in the graph. pos0_i and pos1_i return index of the points closest to requested points in the nodes array\n",
    "pos0_i = np.argmin(np.sum((nodes[:, ::-1] - pos0)**2, axis=1))\n",
    "pos1_i = np.argmin(np.sum((nodes[:, ::-1] - pos1)**2, axis=1))\n",
    "\n",
    "# print(pos0_i, pos1_i)"
   ]
  },
  {
   "cell_type": "code",
   "execution_count": null,
   "metadata": {},
   "outputs": [],
   "source": [
    "# Compute the shortest path.\n",
    "path = nx.shortest_path(\n",
    "    sg,\n",
    "    source=tuple(nodes[pos0_i]),\n",
    "    target=tuple(nodes[pos1_i]),\n",
    "    weight='distance')  # Computes the shortest path (weighted by distance).\n",
    "\n",
    "# The path variable now contains the list of edges that form the shortest path between requested positions\n",
    "print(len(path))"
   ]
  },
  {
   "cell_type": "code",
   "execution_count": null,
   "metadata": {},
   "outputs": [],
   "source": [
    "m = smopy.Map(pos0, pos1, z=7, margin=.1)"
   ]
  },
  {
   "cell_type": "code",
   "execution_count": null,
   "metadata": {},
   "outputs": [],
   "source": [
    "def get_full_path(path):\n",
    "    \"\"\"Return the positions along a path.\"\"\"\n",
    "    p_list = []\n",
    "    curp = None\n",
    "    for i in range(len(path) - 1):\n",
    "        p = get_path(path[i], path[i + 1])\n",
    "        if curp is None:\n",
    "            curp = p\n",
    "        if (np.sum((p[0] - curp) ** 2) >\n",
    "                np.sum((p[-1] - curp) ** 2)):\n",
    "            p = p[::-1, :]\n",
    "        p_list.append(p)\n",
    "        curp = p[-1]\n",
    "    return np.vstack(p_list)"
   ]
  },
  {
   "cell_type": "code",
   "execution_count": null,
   "metadata": {},
   "outputs": [],
   "source": [
    "linepath = get_full_path(path)\n",
    "x, y = m.to_pixels(linepath[:, 1], linepath[:, 0])"
   ]
  },
  {
   "cell_type": "code",
   "execution_count": null,
   "metadata": {},
   "outputs": [],
   "source": [
    "ax = m.show_mpl(figsize=(8, 8))\n",
    "\n",
    "ax.plot(x, y, '-k', lw=3)\n",
    "# Mark our two positions.\n",
    "ax.plot(x[0], y[0], 'ob', ms=20)\n",
    "ax.plot(x[-1], y[-1], 'or', ms=20)\n",
    "\n",
    "# Mark the path.\n",
    "ax.plot(x, y, '-k', lw=3)"
   ]
  }
 ],
 "metadata": {
  "kernelspec": {
   "display_name": "Python 3",
   "language": "python",
   "name": "python3"
  },
  "language_info": {
   "codemirror_mode": {
    "name": "ipython",
    "version": 3
   },
   "file_extension": ".py",
   "mimetype": "text/x-python",
   "name": "python",
   "nbconvert_exporter": "python",
   "pygments_lexer": "ipython3",
   "version": "3.6.8"
  }
 },
 "nbformat": 4,
 "nbformat_minor": 4
}
