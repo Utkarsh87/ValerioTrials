{
 "cells": [
  {
   "cell_type": "code",
   "execution_count": 1,
   "metadata": {},
   "outputs": [],
   "source": [
    "import numpy as np\n",
    "import pandas as pd"
   ]
  },
  {
   "cell_type": "code",
   "execution_count": 2,
   "metadata": {},
   "outputs": [],
   "source": [
    "df = pd.read_csv('VEHICLE_DATA.csv')"
   ]
  },
  {
   "cell_type": "code",
   "execution_count": 3,
   "metadata": {},
   "outputs": [
    {
     "name": "stdout",
     "output_type": "stream",
     "text": [
      "                VEHICLE NAME VEHICLE TYPE PRICE (IN LAKHS) TRANSMISSION  \\\n",
      "0  Hyundai Kona Electric SUV         Cars            23.86    Automatic   \n",
      "1              Tata Nexon EV         Cars            13.99    Automatic   \n",
      "2                   MG ZS EV         Cars            20.88    Automatic   \n",
      "3              Tata Tigor EV         Cars            10.55    Automatic   \n",
      "4  Mahindra E2O P2 Automatic         Cars             7.16    Automatic   \n",
      "\n",
      "   SEATING CAPACITY  DRIVING RANGE (IN KM)  BATTERY TYPE  \\\n",
      "0                 5                    452  Lithium-ion    \n",
      "1                 5                    312  Lithium-ion    \n",
      "2                 5                    340  Lithium-ion    \n",
      "3                 5                    213  Lithium-ion    \n",
      "4                 5                    120  Lithium-ion    \n",
      "\n",
      "  CHARGING DURATION (AC)      CHARGING DURATION (DC)  BATTERY CAPACITY  \\\n",
      "0             6hrs 10min           50V:57min for 80%             39.20   \n",
      "1     15A:10-90%:8.5 hrs                0-80%:60 min             30.20   \n",
      "2             6.6: 8 hrs       50,150V:20-80%:40 min             44.20   \n",
      "3    BEVC-AC001:11.5 hrs  BEVC-DC001:15V:0-80%:2 hrs             16.20   \n",
      "4          11 to 16:9hrs          0 to 95%:1hr 30min             13.44   \n",
      "\n",
      "                                   MOTOR TYPE MOTOR POWER (KW)  \\\n",
      "0  Permanent Magnetic Synchronous Motor(PMSM)           100.28   \n",
      "1  Permanent Magnetic Synchronous Motor(PMSM)          94.8793   \n",
      "2  Permanent Magnetic Synchronous Motor(PMSM)          104.956   \n",
      "3              72 V 3phase AC induction motor  30  @ 4500r/min   \n",
      "4                  3 phase AC induction motor     19@3500r/min   \n",
      "\n",
      "       TORQUE (Nm)  \n",
      "0           394.27  \n",
      "1              245  \n",
      "2              353  \n",
      "3  105  @2500r/min  \n",
      "4    70 @1050r/min  \n"
     ]
    }
   ],
   "source": [
    "print(df.head())"
   ]
  },
  {
   "cell_type": "code",
   "execution_count": 4,
   "metadata": {},
   "outputs": [],
   "source": [
    "car_list = list(df['VEHICLE NAME'])"
   ]
  },
  {
   "cell_type": "code",
   "execution_count": 5,
   "metadata": {},
   "outputs": [],
   "source": [
    "range_list = list(df['DRIVING RANGE (IN KM)'])"
   ]
  },
  {
   "cell_type": "code",
   "execution_count": null,
   "metadata": {},
   "outputs": [],
   "source": [
    "car_dict = {} # holds the car name and its range"
   ]
  },
  {
   "cell_type": "code",
   "execution_count": 6,
   "metadata": {},
   "outputs": [],
   "source": [
    "def RemainingRange(battery_level):\n",
    "    print('Please select the Model: \\n')\n",
    "    for car in car_list:\n",
    "        print(str(car_list.index(car)+1) + \"\\t\"+car+\"\\n\")\n",
    "    choice = int(input('Enter Here: '))\n",
    "    car = car_list[choice-1]\n",
    "    rang = range_list[choice-1]\n",
    "    remaining_range = (rang*battery_level)/100\n",
    "    \n",
    "    return remaining_range"
   ]
  },
  {
   "cell_type": "code",
   "execution_count": 8,
   "metadata": {},
   "outputs": [
    {
     "name": "stdout",
     "output_type": "stream",
     "text": [
      "Please select the Model: \n",
      "\n",
      "1\tHyundai Kona Electric SUV\n",
      "\n",
      "2\tTata Nexon EV\n",
      "\n",
      "3\tMG ZS EV\n",
      "\n",
      "4\tTata Tigor EV\n",
      "\n",
      "5\tMahindra E2O P2 Automatic\n",
      "\n",
      "6\tBajaj Chetak\n",
      "\n",
      "7\tRevolt RV400\n",
      "\n",
      "8\tAther 450X\n",
      "\n",
      "9\tTVS iQube Electric\n",
      "\n",
      "10\tPURE EV Pluto \n",
      "\n",
      "11\tPURE EV Pluto 7G\n",
      "\n",
      "12\tJoy-eBike Monster\n",
      "\n",
      "13\tAvon E bike\n",
      "\n",
      "14\tAvon E scoot\n",
      "\n",
      "15\tHero Electric Optima LA\n",
      "\n",
      "16\tHero Electric Dash\n",
      "\n",
      "17\tOkinawa Praise\n",
      "\n",
      "18\tRevolt RV300\n",
      "\n",
      "Enter Here: 2\n"
     ]
    }
   ],
   "source": [
    "rem = RemainingRange(63)"
   ]
  },
  {
   "cell_type": "code",
   "execution_count": 9,
   "metadata": {},
   "outputs": [
    {
     "name": "stdout",
     "output_type": "stream",
     "text": [
      "RemainingRange (in km) = 196.56\n"
     ]
    }
   ],
   "source": [
    "print('RemainingRange (in km) = '+str(rem))"
   ]
  },
  {
   "cell_type": "code",
   "execution_count": null,
   "metadata": {},
   "outputs": [],
   "source": []
  }
 ],
 "metadata": {
  "kernelspec": {
   "display_name": "Python 3",
   "language": "python",
   "name": "python3"
  },
  "language_info": {
   "codemirror_mode": {
    "name": "ipython",
    "version": 3
   },
   "file_extension": ".py",
   "mimetype": "text/x-python",
   "name": "python",
   "nbconvert_exporter": "python",
   "pygments_lexer": "ipython3",
   "version": "3.6.8"
  }
 },
 "nbformat": 4,
 "nbformat_minor": 4
}
